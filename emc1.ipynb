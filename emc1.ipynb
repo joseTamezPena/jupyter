{
 "cells": [
  {
   "cell_type": "code",
   "execution_count": 1,
   "metadata": {
    "tags": []
   },
   "outputs": [],
   "source": [
    "# Note: Requires R packages nlme and splines that has to be manually installed.\n",
    "# This code also uses pyebm toolbox, which can be installed by pip install pyebm."
   ]
  },
  {
   "cell_type": "code",
   "execution_count": 2,
   "metadata": {
    "pycharm": {
     "is_executing": true
    },
    "tags": []
   },
   "outputs": [
    {
     "name": "stdout",
     "output_type": "stream",
     "text": [
      "Preparing Data.\n",
      "Step 1 / 6 Complete. Selecting Features.\n",
      "Step 2 / 6 Complete. Training DEBM.\n",
      "Warning: Error in Gaussian Mixture Model\n",
      "Warning: Error in Gaussian Mixture Model\n",
      "Step 3 / 6 Complete. Predicting feature values at future timepoints.\n",
      "Step 4 / 6 Complete. Training SVM classifier.\n",
      "Step 5 / 6 Complete. Predicting ADAS and Ventricle values.\n",
      "Step 6 / 6 Complete. Computing confidence intervals with bootstrapping.\n",
      "[0][1][2]"
     ]
    }
   ],
   "source": [
    "#Train model on data set D1-D2 and predict for D4\n",
    "import pandas as pd\n",
    "import datetime\n",
    "from pathlib import Path\n",
    "from tadpole_algorithms.models.emc1 import train_and_predict\n",
    "from tadpole_algorithms.preprocessing.split import split_test_train_tadpole\n",
    "\n",
    "\"\"\"\n",
    "Train model on ADNI data set D1 / D2\n",
    "Predict for subjects in the data set D2\n",
    "\"\"\"\n",
    "\n",
    "# Load D1_D2 train and possible test data set\n",
    "data_path_train_test = Path(\"/mnt/data/Papers/TADPOLEShare/EMC1/jupyter/data/TADPOLE_D1_D2.csv\")\n",
    "data_df_train_test = pd.read_csv(data_path_train_test,low_memory=False)\n",
    "idx_progress=np.logical_and(data_df_train_test['DXCHANGE']>=4, data_df_train_test['DXCHANGE']<=6)\n",
    "SubC=np.unique(data_df_train_test.loc[idx_progress,'RID'])\n",
    "SubC = pd.Series(SubC);\n",
    "# Load D4 evaluation data set \n",
    "data_path_eval = Path(\"/mnt/data/Papers/TADPOLEShare/EMC1/jupyter/data/TADPOLE_D4_corr.csv\")\n",
    "data_df_eval = pd.read_csv(data_path_eval)\n",
    "\n",
    "train_df, test_df, eval_df = split_test_train_tadpole(data_df_train_test, data_df_eval)\n",
    "\n",
    "\n",
    "\n",
    "# Note: This step takes > 1 hour to generate predictions without bootstrapping (n_boot = 0).\n",
    "# For computation of coverage probability and Weighted error score of ADAS and Ventricle prediction, choose n_boot > 1. \n",
    "# Each iteration of bootstrapping takes approximately 1 hour of computation time.\n",
    "n_boot = 0\n",
    "IntermediateFolder = '/mnt/data/Papers/TADPOLEShare/EMC1/jupyter/data/EMC1_IntermediateData'\n",
    "forecast_df_d2=train_and_predict.main(train_df, test_df,IntermediateFolder,n_boot)\n"
   ]
  },
  {
   "cell_type": "code",
   "execution_count": null,
   "metadata": {
    "tags": []
   },
   "outputs": [],
   "source": [
    "#Train model on data set D1-D3 and predict for D4\n",
    "import pandas as pd\n",
    "import datetime\n",
    "from pathlib import Path\n",
    "from tadpole_algorithms.models.emc1 import train_and_predict\n",
    "from tadpole_algorithms.preprocessing.split import split_test_train_d3\n",
    "\n",
    "# Load D1_D2 train and possible test data set\n",
    "data_path_train_test = Path(\"/mnt/data/Papers/TADPOLEShare/EMC1/jupyter/data/TADPOLE_D1_D2.csv\")\n",
    "data_df_train_test = pd.read_csv(data_path_train_test,low_memory=False)\n",
    "\n",
    "# Load D3 possible test set\n",
    "data_path_D3 = Path(\"/mnt/data/Papers/TADPOLEShare/EMC1/jupyter/data/TADPOLE_D3.csv\")\n",
    "data_df_D3 = pd.read_csv(data_path_D3)\n",
    "\n",
    "# Load D4 evaluation data set \n",
    "data_path_eval = Path(\"/mnt/data/Papers/TADPOLEShare/EMC1/jupyter/data/TADPOLE_D4_corr.csv\")\n",
    "data_df_eval = pd.read_csv(data_path_eval)\n",
    "\n",
    "train_df, test_df, eval_df = split_test_train_d3(data_df_train_test, data_df_D3, data_df_eval)\n",
    "# Note: This step takes ~ 1 hour to generate predictions without bootstrapping (n_boot=0).\n",
    "# For computation of coverage probability and Weighted error score of ADAS and Ventricle prediction, choose n_boot > 1.\n",
    "n_boot = 0\n",
    "IntermediateFolder = '/mnt/data/Papers/TADPOLEShare/EMC1/jupyter/data/EMC1_IntermediateDataD3'\n",
    "forecast_df_d3 = train_and_predict.main(train_df, test_df,IntermediateFolder,n_boot)"
   ]
  },
  {
   "cell_type": "code",
   "execution_count": 3,
   "metadata": {
    "tags": []
   },
   "outputs": [
    {
     "name": "stdout",
     "output_type": "stream",
     "text": [
      "[[74 12  0]\n",
      " [16 74  2]\n",
      " [ 2 14 16]]\n",
      "mAUC (multiclass Area Under Curve): 0.903\n",
      "bca (balanced classification accuracy): 0.798\n",
      "adasMAE (ADAS13 Mean Absolute Error): 6.170\n",
      "ventsMAE (Ventricles Mean Absolute Error), in % ICV: 0.416\n",
      "adasWES (ADAS13 Weighted Error Score): 6.736\n",
      "ventsWES (Ventricles Weighted Error Score ), in % ICV: 0.254\n",
      "adasCPA (ADAS13 Coverage Probability Accuracy for 50% Confidence Interval: 0.463\n",
      "ventsCPA (Ventricles Coverage Probability Accuracy for 50% Confidence Interval: 0.460\n"
     ]
    }
   ],
   "source": [
    "# Evaluate D1-D2 Predictions\n",
    "from tadpole_algorithms.evaluation import print_metrics\n",
    "from tadpole_algorithms.evaluation import evaluate_forecast\n",
    "\n",
    "dictionary=evaluate_forecast(eval_df,forecast_df_d2)\n",
    "print_metrics(dictionary)"
   ]
  },
  {
   "cell_type": "code",
   "execution_count": 3,
   "metadata": {
    "tags": []
   },
   "outputs": [
    {
     "name": "stdout",
     "output_type": "stream",
     "text": [
      "[[77  9  0]\n",
      " [28 62  2]\n",
      " [ 3 13 16]]\n",
      "mAUC (multiclass Area Under Curve): 0.897\n",
      "bca (balanced classification accuracy): 0.770\n",
      "adasMAE (ADAS13 Mean Absolute Error): 6.484\n",
      "ventsMAE (Ventricles Mean Absolute Error), in % ICV: 0.835\n",
      "adasWES (ADAS13 Weighted Error Score): nan\n",
      "ventsWES (Ventricles Weighted Error Score ), in % ICV: nan\n",
      "adasCPA (ADAS13 Coverage Probability Accuracy for 50% Confidence Interval: 0.500\n",
      "ventsCPA (Ventricles Coverage Probability Accuracy for 50% Confidence Interval: 0.500\n"
     ]
    }
   ],
   "source": [
    "# Evaluate D1-D3 Predictions\n",
    "from tadpole_algorithms.evaluation import print_metrics\n",
    "from tadpole_algorithms.evaluation import evaluate_forecast\n",
    "\n",
    "dictionary=evaluate_forecast(eval_df,forecast_df_d3)\n",
    "print_metrics(dictionary)"
   ]
  },
  {
   "cell_type": "code",
   "execution_count": null,
   "metadata": {},
   "outputs": [],
   "source": []
  }
 ],
 "metadata": {
  "kernelspec": {
   "display_name": "Python 3",
   "language": "python",
   "name": "python3"
  },
  "language_info": {
   "codemirror_mode": {
    "name": "ipython",
    "version": 3
   },
   "file_extension": ".py",
   "mimetype": "text/x-python",
   "name": "python",
   "nbconvert_exporter": "python",
   "pygments_lexer": "ipython3",
   "version": "3.6.9"
  }
 },
 "nbformat": 4,
 "nbformat_minor": 4
}