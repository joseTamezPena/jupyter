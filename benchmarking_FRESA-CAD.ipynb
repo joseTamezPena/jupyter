{
 "cells": [
  {
   "cell_type": "markdown",
   "metadata": {},
   "source": [
    "# Benchmark FRESA.CAD BSWIMS final Script\n"
   ]
  },
  {
   "cell_type": "markdown",
   "metadata": {},
   "source": [
    "This algorithm implementation uses R code and a Python library (rpy2) to connect with it, in order  to run the following it is necesary to have installed both on your computer:\n",
    "\n",
    "- R (you can download in https://www.r-project.org/) <br>\n",
    "- install rpy2 by <code> pip install rpy2 </code>"
   ]
  },
  {
   "cell_type": "code",
   "execution_count": null,
   "metadata": {},
   "outputs": [],
   "source": [
    "import numpy as np\n",
    "import pandas as pd\n",
    "import sys\n",
    "from pathlib import Path\n",
    "sys.path.append(\"../tadpole-algorithms\")\n",
    "import tadpole_algorithms\n",
    "from tadpole_algorithms.models import Benchmark_FRESACAD_R\n",
    "from tadpole_algorithms.preprocessing.split import split_test_train_tadpole\n",
    "#rpy2 libs and funcs\n",
    "import rpy2.robjects.packages as rpackages\n",
    "from rpy2.robjects.vectors import StrVector\n",
    "from rpy2.robjects import r, pandas2ri \n",
    "from rpy2 import robjects\n",
    "from rpy2.robjects.conversion import localconverter\n"
   ]
  },
  {
   "cell_type": "code",
   "execution_count": null,
   "metadata": {},
   "outputs": [],
   "source": [
    "# Load D1_D2 train and possible test data set\n",
    "data_path_train_test = Path(\"data/TADPOLE_D1_D2.csv\")\n",
    "data_df_train_test = pd.read_csv(data_path_train_test)\n",
    "\n",
    "# Load data Dictionary\n",
    "data_path_Dictionaty = Path(\"data/TADPOLE_D1_D2_Dict.csv\")\n",
    "data_Dictionaty = pd.read_csv(data_path_Dictionaty)\n",
    "\n",
    "# Load D3 possible test set\n",
    "data_path_test = Path(\"data/TADPOLE_D3.csv\")\n",
    "data_D3 = pd.read_csv(data_path_test)\n",
    "\n",
    "# Load D4 evaluation data set \n",
    "data_path_eval = Path(\"data/TADPOLE_D4_corr.csv\")\n",
    "data_df_eval = pd.read_csv(data_path_eval)\n",
    "\n",
    "# Split data in test, train and evaluation data\n",
    "train_df, test_df, eval_df = split_test_train_tadpole(data_df_train_test, data_df_eval)\n",
    "\n",
    "#instanciate the model to get the functions\n",
    "model = Benchmark_FRESACAD_R()\n",
    "#set the flag to true to use a preprocessed data\n",
    "USE_PREPROC = False\n"
   ]
  },
  {
   "cell_type": "code",
   "execution_count": null,
   "metadata": {},
   "outputs": [],
   "source": [
    "#preprocess the data\n",
    "D1Train,D2Test,D3Train,D3Test = model.extractTrainTestDataSets_R(\"data/TADPOLE_D1_D2.csv\",\"data/TADPOLE_D3.csv\")\n"
   ]
  },
  {
   "cell_type": "code",
   "execution_count": null,
   "metadata": {},
   "outputs": [],
   "source": [
    "# AdjustedTrainFrame,testingFrame,Train_Imputed,Test_Imputed = model.preproc_tadpole_D1_D2(data_df_train_test,USE_PREPROC)\n",
    "AdjustedTrainFrame,testingFrame,Train_Imputed,Test_Imputed = model.preproc_with_R(D1Train,D2Test,data_Dictionaty,usePreProc=USE_PREPROC)\n"
   ]
  },
  {
   "cell_type": "code",
   "execution_count": null,
   "metadata": {},
   "outputs": [],
   "source": [
    "#Train Congitive Models\n",
    "modelfilename = model.Train_Congitive(AdjustedTrainFrame,usePreProc=True)"
   ]
  },
  {
   "cell_type": "code",
   "execution_count": null,
   "metadata": {},
   "outputs": [],
   "source": [
    "#Train ADAS/Ventricles Models\n",
    "regresionModelfilename = model.Train_Regression(AdjustedTrainFrame,Train_Imputed,usePreProc=USE_PREPROC)\n",
    "print(regresionModelfilename)"
   ]
  },
  {
   "cell_type": "code",
   "execution_count": null,
   "metadata": {},
   "outputs": [],
   "source": [
    "print(regresionModelfilename)\n",
    "print(type(regresionModelfilename))"
   ]
  },
  {
   "cell_type": "code",
   "execution_count": null,
   "metadata": {},
   "outputs": [],
   "source": [
    "#Predict \n",
    "Forecast_D2 = model.Forecast_All(modelfilename,\n",
    "                                 regresionModelfilename,\n",
    "                                 testingFrame,\n",
    "                                 Test_Imputed,\n",
    "                                 submissionTemplateFileName=\"data/TADPOLE_Simple_Submission_TeamName.xlsx\",\n",
    "                                 usePreProc=USE_PREPROC)"
   ]
  },
  {
   "cell_type": "code",
   "execution_count": null,
   "metadata": {},
   "outputs": [],
   "source": [
    "#data_forecast_test = Path(\"data/_ForecastFRESACAD.csv\")\n",
    "#Forecast_D2 = pd.read_csv(data_forecast_test)\n",
    "\n",
    "from tadpole_algorithms.evaluation import evaluate_forecast\n",
    "from tadpole_algorithms.evaluation import print_metrics\n",
    "# Evaluate the model \n",
    "dictionary = evaluate_forecast(eval_df, Forecast_D2)\n",
    "# Print metrics\n",
    "print_metrics(dictionary)"
   ]
  },
  {
   "cell_type": "code",
   "execution_count": null,
   "metadata": {},
   "outputs": [],
   "source": [
    "# AdjustedTrainFrame,testingFrame,Train_Imputed,Test_Imputed = model.preproc_tadpole_D1_D2(data_df_train_test,USE_PREPROC)\n",
    "D3AdjustedTrainFrame,D3testingFrame,D3Train_Imputed,D3Test_Imputed = model.preproc_with_R(D3Train,\n",
    "                                                                                    D3Test,\n",
    "                                                                                    data_Dictionaty,\n",
    "                                                                                    MinVisit=18,\n",
    "                                                                                    colImputeThreshold=0.15,\n",
    "                                                                                    rowImputeThreshold=0.10,\n",
    "                                                                                    includeID=False,\n",
    "                                                                                    usePreProc=USE_PREPROC)"
   ]
  },
  {
   "cell_type": "code",
   "execution_count": null,
   "metadata": {},
   "outputs": [],
   "source": [
    "#Train Congitive Models\n",
    "D3modelfilename = model.Train_Congitive(D3AdjustedTrainFrame,usePreProc=USE_PREPROC)"
   ]
  },
  {
   "cell_type": "code",
   "execution_count": null,
   "metadata": {},
   "outputs": [],
   "source": [
    "#Train ADAS/Ventricles Models\n",
    "D3regresionModelfilename = model.Train_Regression(D3AdjustedTrainFrame,D3Train_Imputed,usePreProc=USE_PREPROC)\n"
   ]
  },
  {
   "cell_type": "code",
   "execution_count": null,
   "metadata": {},
   "outputs": [],
   "source": [
    "#Predict \n",
    "Forecast_D3 = model.Forecast_All(D3modelfilename,\n",
    "                                 D3regresionModelfilename,\n",
    "                                 D3testingFrame,\n",
    "                                 D3Test_Imputed,\n",
    "                                 submissionTemplateFileName=\"data/TADPOLE_Simple_Submission_TeamName.xlsx\",\n",
    "                                 usePreProc=USE_PREPROC)"
   ]
  },
  {
   "cell_type": "code",
   "execution_count": null,
   "metadata": {},
   "outputs": [],
   "source": [
    "from tadpole_algorithms.evaluation import evaluate_forecast\n",
    "from tadpole_algorithms.evaluation import print_metrics\n",
    "# Evaluate the D3 model \n",
    "dictionary = evaluate_forecast(eval_df,Forecast_D3)\n",
    "\n",
    "# Print metrics\n",
    "print_metrics(dictionary)"
   ]
  }
 ],
 "metadata": {
  "kernelspec": {
   "display_name": "Python 3",
   "language": "python",
   "name": "python3"
  },
  "language_info": {
   "codemirror_mode": {
    "name": "ipython",
    "version": 3
   },
   "file_extension": ".py",
   "mimetype": "text/x-python",
   "name": "python",
   "nbconvert_exporter": "python",
   "pygments_lexer": "ipython3",
   "version": "3.8.6"
  }
 },
 "nbformat": 4,
 "nbformat_minor": 4
}
